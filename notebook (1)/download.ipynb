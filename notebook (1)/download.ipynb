{
 "cells": [
  {
   "cell_type": "code",
   "execution_count": 1,
   "metadata": {},
   "outputs": [
    {
     "name": "stdout",
     "output_type": "stream",
     "text": [
      "COVID_aggregate_by_date.ipynb\n",
      "COVID_aggregate_by_date.py\n",
      "Cumulative to daily count.ipynb\n",
      "Cumulative to daily count.py\n",
      "LSTM_test.ipynb\n",
      "MSA_travel_aggregate_code/\n",
      "MSA_travel_aggregate_code/.ipynb_checkpoints/\n",
      "MSA_travel_aggregate_code/.ipynb_checkpoints/travel_aggregate-checkpoint.ipynb\n",
      "MSA_travel_aggregate_code/.ipynb_checkpoints/Untitled-checkpoint.ipynb\n",
      "MSA_travel_aggregate_code/metro_county.csv\n",
      "MSA_travel_aggregate_code/output.csv\n",
      "MSA_travel_aggregate_code/travel_aggregate.ipynb\n",
      "MSA_travel_aggregate_code/travel_aggregate.py\n",
      "MSA_travel_aggregate_code/traveler to each city.csv\n",
      "MSA_travel_aggregate_code/Untitled.ipynb\n",
      "MSA_travel_aggregate_code/us city by state.csv\n",
      "README.md\n",
      "Superstore.xls\n",
      "Untitled.ipynb\n",
      "cases.js\n",
      "cases.js.txt\n",
      "data/\n",
      "data/.ipynb_checkpoints/\n",
      "data/daily count.csv\n",
      "data/daily count_copy.csv\n",
      "data/geoid.csv\n",
      "data/metro_county.csv\n",
      "data/output.csv\n",
      "data/output_cases.csv\n",
      "data/output_cases_world.csv\n",
      "data/output_deaths.csv\n",
      "data/output_deaths_world.csv\n",
      "data/us states abbreviations.csv\n",
      "data/cases.js\n",
      "data/test.js\n",
      "data/Covid-19 cumulative.csv\n",
      "data/covid_world.csv\n",
      "download.ipynb\n",
      "model_prediction.ipynb\n",
      "model_prediction.py\n",
      "shampoo-sales.csv\n",
      "shapefile_convert.ipynb\n",
      "shp/\n",
      "shp/world_region.shp\n",
      "shp/world_region.shx\n",
      "shp/world_region.dbf\n",
      "shp/world_region.prj\n",
      "test1.js\n",
      "test_new_york_LSTM.csv\n",
      "world_region (1).json\n"
     ]
    }
   ],
   "source": [
    "!tar chvfz notebook.tar.gz *"
   ]
  },
  {
   "cell_type": "code",
   "execution_count": null,
   "metadata": {},
   "outputs": [],
   "source": []
  }
 ],
 "metadata": {
  "kernelspec": {
   "display_name": "Python 3",
   "language": "python",
   "name": "python3"
  },
  "language_info": {
   "codemirror_mode": {
    "name": "ipython",
    "version": 3
   },
   "file_extension": ".py",
   "mimetype": "text/x-python",
   "name": "python",
   "nbconvert_exporter": "python",
   "pygments_lexer": "ipython3",
   "version": "3.7.6"
  }
 },
 "nbformat": 4,
 "nbformat_minor": 4
}
