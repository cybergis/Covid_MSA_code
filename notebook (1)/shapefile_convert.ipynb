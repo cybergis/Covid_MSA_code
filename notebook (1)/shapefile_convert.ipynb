{
 "cells": [
  {
   "cell_type": "code",
   "execution_count": 1,
   "metadata": {},
   "outputs": [],
   "source": [
    "def write_GEO_JSON_js_test(param):    \n",
    "    # read shape file to df_shape\n",
    "    df_shapes = gpd.read_file(param['shapefile'])\n",
    "    print(df_shapes.head())\n",
    "    #print(type(df_shapes))\n",
    "    df_shapes = df_shapes.rename(columns={'GEOID10': 'geoid'})\n",
    "    \n",
    "\n",
    "    \n",
    "    geoid = df_shapes.columns[0]\n",
    "    df_shapes = df_shapes[pd.notnull(df_shapes['geometry'])]\n",
    "    \n",
    "    # open GEO_JSON.js write heading for geojson format\n",
    "    filename_GEO_JSON = \"test1.js\"\n",
    "    ofile = open(filename_GEO_JSON, 'w')\n",
    "    ofile.write('var GEO_JSON =\\n')\n",
    "    ofile.write('{\"type\":\"FeatureCollection\", \"features\": [\\n')\n",
    "    \n",
    "    \n",
    "    #Convert geometry in GEOJSONP to geojson format\n",
    "    wCount = 0\n",
    "    for shape in df_shapes.itertuples():\n",
    "        feature = {\"type\":\"Feature\"}\n",
    "        \n",
    "        if (type(shape.geometry) is float):\t\t\t\t\t\t\t\t# check is NaN?\n",
    "            continue\n",
    "            \n",
    "        aShape = shapely.wkt.loads(str(shape.geometry))\n",
    "        feature[\"geometry\"] = shapely.geometry.mapping(aShape)\n",
    "\n",
    "        \n",
    "        #print(shape.__getattribute__)\n",
    "        feature[\"properties\"] = {geoid: shape.__getattribute__(geoid)}\n",
    "        wCount += 1\n",
    "        \n",
    "        #print(feature)\n",
    "        ofile.write(json.dumps(feature)+',\\n')\n",
    "    #print(\"GEO_JSON.js write count:\", wCount)\n",
    "    # complete the geojosn format by adding parenthesis at the end.\t\n",
    "    ofile.write(']}\\n')\n",
    "    ofile.close()"
   ]
  },
  {
   "cell_type": "code",
   "execution_count": 2,
   "metadata": {},
   "outputs": [
    {
     "name": "stdout",
     "output_type": "stream",
     "text": [
      "   GEOID              NAME region    LON    LAT   ISO3  \\\n",
      "0  12660           Baraboo     WI -89.95  43.43  12660   \n",
      "1  38300        Pittsburgh     PA -79.83  40.44  38300   \n",
      "2  17460  Cleveland-Elyria     OH -81.68  41.38  17460   \n",
      "3  38920       Port Lavaca     TX -96.64  28.50  38920   \n",
      "4  48660     Wichita Falls     TX -98.49  33.77  48660   \n",
      "\n",
      "                                            geometry  \n",
      "0  POLYGON ((-90.31241 43.64100, -90.29665 43.641...  \n",
      "1  POLYGON ((-80.51922 39.96243, -80.51921 39.963...  \n",
      "2  POLYGON ((-82.34808 41.42840, -82.34412 41.429...  \n",
      "3  MULTIPOLYGON (((-96.38985 28.38963, -96.38527 ...  \n",
      "4  POLYGON ((-98.95383 33.49638, -98.95378 33.531...  \n"
     ]
    }
   ],
   "source": [
    "import json, math, copy, sys\n",
    "# from geosnap.io import store_ltdb\n",
    "# from geosnap import Community, datasets\n",
    "# from geosnap.io import store_census\n",
    "import pandas as pd\n",
    "import shapely.wkt\n",
    "import shapely.geometry\n",
    "from datetime import datetime\n",
    "from datetime import timedelta\n",
    "from pathlib import Path\n",
    "import urllib.parse\n",
    "import webbrowser\n",
    "import os\n",
    "import pprint\n",
    "from sklearn.preprocessing import minmax_scale\n",
    "import numpy as np\n",
    "from scipy import stats\n",
    "from notebook import notebookapp\n",
    "from IPython.core.display import display, HTML\n",
    "import geopandas as gpd\n",
    "\n",
    "\n",
    "if __name__ == \"__main__\":\n",
    "    \n",
    "    \n",
    "        \n",
    "    param = {\n",
    "        'Disease': './data/output_deaths.csv',  \n",
    "        'begin_date': \"2020-02-22\",\n",
    "        'end_date': \"2020-06-10\",\n",
    "        'shapefile': \"./shp/world_region.shp\",\n",
    "        'filename_suffix': \"test1.js\"\n",
    "    }\n",
    "    \n",
    "    write_GEO_JSON_js_test(param)"
   ]
  },
  {
   "cell_type": "code",
   "execution_count": null,
   "metadata": {},
   "outputs": [],
   "source": []
  }
 ],
 "metadata": {
  "kernelspec": {
   "display_name": "Python 3",
   "language": "python",
   "name": "python3"
  },
  "language_info": {
   "codemirror_mode": {
    "name": "ipython",
    "version": 3
   },
   "file_extension": ".py",
   "mimetype": "text/x-python",
   "name": "python",
   "nbconvert_exporter": "python",
   "pygments_lexer": "ipython3",
   "version": "3.7.6"
  }
 },
 "nbformat": 4,
 "nbformat_minor": 4
}
