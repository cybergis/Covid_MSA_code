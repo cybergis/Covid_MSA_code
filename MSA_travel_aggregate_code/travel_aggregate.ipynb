{
 "cells": [
  {
   "cell_type": "code",
   "execution_count": 37,
   "metadata": {},
   "outputs": [],
   "source": [
    "import pandas as pd\n"
   ]
  },
  {
   "cell_type": "code",
   "execution_count": 38,
   "metadata": {},
   "outputs": [],
   "source": [
    "def aggregate_MSA(input_data, write_path):\n",
    "    \n",
    "    city_state = pd.read_csv('us city by state.csv')\n",
    "    metro_county = pd.read_csv('metro_county.csv')\n",
    "    travel_count = pd.read_csv(input_data)\n",
    "    \n",
    "    \n",
    "    \n",
    "    travel_count['state'] = 's'\n",
    "\n",
    "    for i in range(len(travel_count)):\n",
    "        if (len(travel_count.at[i,'city'].split(', ')) > 1):\n",
    "            travel_count.at[i, 'state'] = travel_count.at[i, 'city'].split(', ')[1]\n",
    "            travel_count.at[i, 'city'] = travel_count.at[i, 'city'].split(', ')[0]\n",
    "    \n",
    "       \n",
    "    merged1 = travel_count.merge(city_state, how = 'inner', \n",
    "                            left_on=['city', 'state'], \n",
    "                            right_on=['City','State short'])\n",
    "        \n",
    "        \n",
    "\n",
    "    \n",
    "    for i in range(len(merged1)):\n",
    "        merged1.at[i, 'County'] = merged1.at[i, 'County'].lower()\n",
    "    \n",
    "    \n",
    "    for i in range(len(metro_county)):\n",
    "        metro_county.at[i, 'name10_county'] = metro_county.at[i, 'name10_county'].lower()\n",
    " \n",
    "    merged1 = merged1.drop_duplicates(subset = ['city', 'state'])\n",
    "    \n",
    "    \n",
    "    merged2 = merged1.merge(metro_county, how = 'inner',\n",
    "                        left_on=['County', 'state'], \n",
    "                        right_on=['name10_county','states_msa'])\n",
    "    \n",
    "    \n",
    "    merged2 = merged2.drop(columns=['City', 'city', 'geoid_msa', 'State full', 'statefp10_county', 'countyfp10'\n",
    "                         , 'countyns10', 'geoid10_county', 'name10_county', 'countyid', 'states_msa_full'\n",
    "                         , 'states_msa', 'states_msa_code', 'City alias', 'state', 'State short', 'County'])\n",
    "    merged2 = merged2.groupby(['name_msa']).sum()\n",
    "    merged2.to_csv(write_path)\n",
    "    \n",
    "    \n",
    "    \n",
    "    \n",
    "    \n",
    "    \n",
    "    \n"
   ]
  },
  {
   "cell_type": "code",
   "execution_count": 39,
   "metadata": {},
   "outputs": [
    {
     "name": "stdout",
     "output_type": "stream",
     "text": [
      "           city  2020-02-14  2020-02-15  2020-02-16  2020-02-17  2020-02-18  \\\n",
      "7364  Champaign          16          16          15          25          25   \n",
      "\n",
      "      2020-02-19  2020-02-20  2020-02-21  2020-02-22  ...  2020-06-08  \\\n",
      "7364          38          37          36          31  ...         5.0   \n",
      "\n",
      "      2020-06-09  2020-06-10  2020-06-11  state       City  State short  \\\n",
      "7364         5.0         3.0         6.0     IL  Champaign           IL   \n",
      "\n",
      "      State full     County  City alias  \n",
      "7364    Illinois  champaign   Champaign  \n",
      "\n",
      "[1 rows x 126 columns]\n"
     ]
    }
   ],
   "source": [
    "if __name__ == \"__main__\":\n",
    "    aggregate_MSA('traveler to each city.csv','output.csv')"
   ]
  }
 ],
 "metadata": {
  "kernelspec": {
   "display_name": "Python 3",
   "language": "python",
   "name": "python3"
  },
  "language_info": {
   "codemirror_mode": {
    "name": "ipython",
    "version": 3
   },
   "file_extension": ".py",
   "mimetype": "text/x-python",
   "name": "python",
   "nbconvert_exporter": "python",
   "pygments_lexer": "ipython3",
   "version": "3.7.7"
  }
 },
 "nbformat": 4,
 "nbformat_minor": 4
}
